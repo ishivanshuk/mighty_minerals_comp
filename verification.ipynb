{
 "cells": [
  {
   "cell_type": "code",
   "execution_count": 1,
   "id": "7f70ec8a",
   "metadata": {},
   "outputs": [],
   "source": [
    "import csv\n",
    "import rsa\n",
    "import pandas as pd"
   ]
  },
  {
   "cell_type": "code",
   "execution_count": 2,
   "id": "8f26ad13",
   "metadata": {},
   "outputs": [],
   "source": [
    "df=pd.read_csv('prod_data.csv')"
   ]
  },
  {
   "cell_type": "code",
   "execution_count": 3,
   "id": "51fbd7ba",
   "metadata": {},
   "outputs": [],
   "source": [
    "find=b'(8\\xf7\\xd4N}\\x033\\xcd\\x11p\\xfd\\x9cS\\xc1\\x9f\\x91\\xd8\\x8a\\xb0g\\x9a\\x1a\\xb8\\x98'\n",
    "\n",
    "#scanned data here"
   ]
  },
  {
   "cell_type": "code",
   "execution_count": 4,
   "id": "45babb5e",
   "metadata": {},
   "outputs": [
    {
     "name": "stdout",
     "output_type": "stream",
     "text": [
      "b'(8\\xf7\\xd4N}\\x033\\xcd\\x11p\\xfd\\x9cS\\xc1\\x9f\\x91\\xd8\\x8a\\xb0g\\x9a\\x1a\\xb8\\x98'\n"
     ]
    }
   ],
   "source": [
    "print(find)"
   ]
  },
  {
   "cell_type": "code",
   "execution_count": 5,
   "id": "bf4603ac",
   "metadata": {},
   "outputs": [],
   "source": [
    "def loadKeys():\n",
    "    with open('keys/publicKey.pem', 'rb') as p:\n",
    "        publicKey = rsa.PublicKey.load_pkcs1(p.read())\n",
    "    with open('keys/privateKey.pem', 'rb') as p:\n",
    "        privateKey = rsa.PrivateKey.load_pkcs1(p.read())\n",
    "    return privateKey, publicKey\n",
    "   "
   ]
  },
  {
   "cell_type": "code",
   "execution_count": 6,
   "id": "fd2ecf02",
   "metadata": {},
   "outputs": [],
   "source": [
    "def decrypt(find, key):\n",
    "    try:\n",
    "        return rsa.decrypt(find, key).decode('ascii')\n",
    "    except:\n",
    "        return False"
   ]
  },
  {
   "cell_type": "code",
   "execution_count": 7,
   "id": "b6c76419",
   "metadata": {},
   "outputs": [
    {
     "name": "stdout",
     "output_type": "stream",
     "text": [
      "False\n"
     ]
    }
   ],
   "source": [
    "privateKey, publicKey =loadKeys()\n",
    "text = decrypt(find, privateKey)\n",
    "print(text)"
   ]
  },
  {
   "cell_type": "code",
   "execution_count": 8,
   "id": "4c1d07d6",
   "metadata": {},
   "outputs": [
    {
     "name": "stdout",
     "output_type": "stream",
     "text": [
      "Fake Product. Please contact 99######00\n"
     ]
    }
   ],
   "source": [
    "c=1;\n",
    "for i in range(0,50):\n",
    "    if(df.loc[i,'prod_id']==text):\n",
    "        if(df.loc[i,'checked']=='NO'):\n",
    "            print('Verified product id ',text)\n",
    "            df.loc[i,'checked']='YES'\n",
    "            c=0\n",
    "            break\n",
    "        else:\n",
    "            print('Product Has Already Been Checked Before')\n",
    "            c=0\n",
    "            break\n",
    "if(c==1):\n",
    "    print('Fake Product. Please contact 99######00')\n"
   ]
  },
  {
   "cell_type": "code",
   "execution_count": 9,
   "id": "d8420d2b",
   "metadata": {},
   "outputs": [],
   "source": [
    "df.to_csv('prod_data.csv')"
   ]
  }
 ],
 "metadata": {
  "kernelspec": {
   "display_name": "Python 3 (ipykernel)",
   "language": "python",
   "name": "python3"
  },
  "language_info": {
   "codemirror_mode": {
    "name": "ipython",
    "version": 3
   },
   "file_extension": ".py",
   "mimetype": "text/x-python",
   "name": "python",
   "nbconvert_exporter": "python",
   "pygments_lexer": "ipython3",
   "version": "3.10.3"
  }
 },
 "nbformat": 4,
 "nbformat_minor": 5
}
