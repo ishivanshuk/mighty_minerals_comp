{
 "cells": [
  {
   "cell_type": "code",
   "execution_count": 1,
   "id": "a4ecb573",
   "metadata": {},
   "outputs": [],
   "source": [
    "import csv\n",
    "import rsa\n",
    "f=open('prod_data.csv','w')"
   ]
  },
  {
   "cell_type": "code",
   "execution_count": 2,
   "id": "bab9e3fd",
   "metadata": {},
   "outputs": [],
   "source": [
    "header = ['name', 'mfg_date_dd-mm-yy','batch_number', 'number_products','checked','prod_id','hash']"
   ]
  },
  {
   "cell_type": "code",
   "execution_count": 3,
   "id": "e0b7e2ae",
   "metadata": {},
   "outputs": [],
   "source": [
    "writer = csv.writer(f)"
   ]
  },
  {
   "cell_type": "code",
   "execution_count": 4,
   "id": "a8b1e4bd",
   "metadata": {},
   "outputs": [
    {
     "data": {
      "text/plain": [
       "74"
      ]
     },
     "execution_count": 4,
     "metadata": {},
     "output_type": "execute_result"
    }
   ],
   "source": [
    "writer.writerow(header)"
   ]
  },
  {
   "cell_type": "code",
   "execution_count": 5,
   "id": "912c8aa0",
   "metadata": {},
   "outputs": [],
   "source": [
    "data = [['test_name','21-03-2022','WP50050MD',200,'NO','','']]"
   ]
  },
  {
   "cell_type": "code",
   "execution_count": 6,
   "id": "9c06727f",
   "metadata": {},
   "outputs": [],
   "source": [
    "for i in range(0,200):\n",
    "    writer.writerows(data)\n",
    "f.close()"
   ]
  },
  {
   "cell_type": "code",
   "execution_count": 7,
   "id": "b80b2d87",
   "metadata": {},
   "outputs": [],
   "source": [
    "import pandas as pd\n",
    "df=pd.read_csv('prod_data.csv')"
   ]
  },
  {
   "cell_type": "code",
   "execution_count": 8,
   "id": "1af4726f",
   "metadata": {},
   "outputs": [],
   "source": [
    "for i in range(0,200):\n",
    "    x=\"{:03d}\".format(i); #enter number of digits in number of products in table\n",
    "    df.loc[i,'prod_id']=df.loc[0,'batch_number']+x"
   ]
  },
  {
   "cell_type": "code",
   "execution_count": 9,
   "id": "c81d803a",
   "metadata": {
    "scrolled": true
   },
   "outputs": [
    {
     "name": "stdout",
     "output_type": "stream",
     "text": [
      "          name mfg_date_dd-mm-yy batch_number  number_products checked  \\\n",
      "0    test_name        21-03-2022    WP50050MD              200      NO   \n",
      "1    test_name        21-03-2022    WP50050MD              200      NO   \n",
      "2    test_name        21-03-2022    WP50050MD              200      NO   \n",
      "3    test_name        21-03-2022    WP50050MD              200      NO   \n",
      "4    test_name        21-03-2022    WP50050MD              200      NO   \n",
      "..         ...               ...          ...              ...     ...   \n",
      "195  test_name        21-03-2022    WP50050MD              200      NO   \n",
      "196  test_name        21-03-2022    WP50050MD              200      NO   \n",
      "197  test_name        21-03-2022    WP50050MD              200      NO   \n",
      "198  test_name        21-03-2022    WP50050MD              200      NO   \n",
      "199  test_name        21-03-2022    WP50050MD              200      NO   \n",
      "\n",
      "          prod_id  hash  \n",
      "0    WP50050MD000   NaN  \n",
      "1    WP50050MD001   NaN  \n",
      "2    WP50050MD002   NaN  \n",
      "3    WP50050MD003   NaN  \n",
      "4    WP50050MD004   NaN  \n",
      "..            ...   ...  \n",
      "195  WP50050MD195   NaN  \n",
      "196  WP50050MD196   NaN  \n",
      "197  WP50050MD197   NaN  \n",
      "198  WP50050MD198   NaN  \n",
      "199  WP50050MD199   NaN  \n",
      "\n",
      "[200 rows x 7 columns]\n"
     ]
    }
   ],
   "source": [
    "print(df)\n"
   ]
  },
  {
   "cell_type": "code",
   "execution_count": 10,
   "id": "4e14e768",
   "metadata": {},
   "outputs": [],
   "source": [
    "def generateKeys():\n",
    "    (publicKey, privateKey) = rsa.newkeys(256)\n",
    "    with open('keys/publicKey.pem', 'wb') as p:\n",
    "        p.write(publicKey.save_pkcs1('PEM'))\n",
    "    with open('keys/privateKey.pem', 'wb') as p:\n",
    "        p.write(privateKey.save_pkcs1('PEM'))"
   ]
  },
  {
   "cell_type": "code",
   "execution_count": 11,
   "id": "f8b0d8ca",
   "metadata": {},
   "outputs": [],
   "source": [
    "def loadKeys():\n",
    "    with open('keys/publicKey.pem', 'rb') as p:\n",
    "        publicKey = rsa.PublicKey.load_pkcs1(p.read())\n",
    "    with open('keys/privateKey.pem', 'rb') as p:\n",
    "        privateKey = rsa.PrivateKey.load_pkcs1(p.read())\n",
    "    return privateKey, publicKey"
   ]
  },
  {
   "cell_type": "code",
   "execution_count": 12,
   "id": "7f57c3f6",
   "metadata": {},
   "outputs": [],
   "source": [
    "def encrypt(message, key):\n",
    "    return rsa.encrypt(message.encode(), key)"
   ]
  },
  {
   "cell_type": "code",
   "execution_count": 13,
   "id": "a7afd51f",
   "metadata": {},
   "outputs": [],
   "source": [
    "def decrypt(ciphertext, key):\n",
    "    try:\n",
    "        return rsa.decrypt(ciphertext, key).decode('ascii')\n",
    "    except:\n",
    "        return False"
   ]
  },
  {
   "cell_type": "code",
   "execution_count": 14,
   "id": "db126def",
   "metadata": {},
   "outputs": [],
   "source": [
    "generateKeys()\n",
    "publicKey, privateKey =loadKeys()"
   ]
  },
  {
   "cell_type": "code",
   "execution_count": 15,
   "id": "4d0d3905",
   "metadata": {},
   "outputs": [
    {
     "ename": "OverflowError",
     "evalue": "12 bytes needed for message, but there is only space for 5",
     "output_type": "error",
     "traceback": [
      "\u001b[1;31m---------------------------------------------------------------------------\u001b[0m",
      "\u001b[1;31mOverflowError\u001b[0m                             Traceback (most recent call last)",
      "Input \u001b[1;32mIn [15]\u001b[0m, in \u001b[0;36m<cell line: 1>\u001b[1;34m()\u001b[0m\n\u001b[0;32m      1\u001b[0m \u001b[38;5;28;01mfor\u001b[39;00m i \u001b[38;5;129;01min\u001b[39;00m \u001b[38;5;28mrange\u001b[39m(\u001b[38;5;241m0\u001b[39m,\u001b[38;5;241m200\u001b[39m):\n\u001b[0;32m      2\u001b[0m     enc_data\u001b[38;5;241m=\u001b[39mdf\u001b[38;5;241m.\u001b[39mloc[i,\u001b[38;5;124m'\u001b[39m\u001b[38;5;124mprod_id\u001b[39m\u001b[38;5;124m'\u001b[39m]\n\u001b[1;32m----> 3\u001b[0m     df\u001b[38;5;241m.\u001b[39mloc[i,\u001b[38;5;124m'\u001b[39m\u001b[38;5;124mhash\u001b[39m\u001b[38;5;124m'\u001b[39m]\u001b[38;5;241m=\u001b[39m\u001b[43mencrypt\u001b[49m\u001b[43m(\u001b[49m\u001b[43menc_data\u001b[49m\u001b[43m,\u001b[49m\u001b[43mpublicKey\u001b[49m\u001b[43m)\u001b[49m\n",
      "Input \u001b[1;32mIn [12]\u001b[0m, in \u001b[0;36mencrypt\u001b[1;34m(message, key)\u001b[0m\n\u001b[0;32m      1\u001b[0m \u001b[38;5;28;01mdef\u001b[39;00m \u001b[38;5;21mencrypt\u001b[39m(message, key):\n\u001b[1;32m----> 2\u001b[0m     \u001b[38;5;28;01mreturn\u001b[39;00m \u001b[43mrsa\u001b[49m\u001b[38;5;241;43m.\u001b[39;49m\u001b[43mencrypt\u001b[49m\u001b[43m(\u001b[49m\u001b[43mmessage\u001b[49m\u001b[38;5;241;43m.\u001b[39;49m\u001b[43mencode\u001b[49m\u001b[43m(\u001b[49m\u001b[43m)\u001b[49m\u001b[43m,\u001b[49m\u001b[43m \u001b[49m\u001b[43mkey\u001b[49m\u001b[43m)\u001b[49m\n",
      "File \u001b[1;32m~\\AppData\\Local\\Programs\\Python\\Python310\\lib\\site-packages\\rsa\\pkcs1.py:194\u001b[0m, in \u001b[0;36mencrypt\u001b[1;34m(message, pub_key)\u001b[0m\n\u001b[0;32m    172\u001b[0m \u001b[38;5;124;03m\"\"\"Encrypts the given message using PKCS#1 v1.5\u001b[39;00m\n\u001b[0;32m    173\u001b[0m \n\u001b[0;32m    174\u001b[0m \u001b[38;5;124;03m:param message: the message to encrypt. Must be a byte string no longer than\u001b[39;00m\n\u001b[1;32m   (...)\u001b[0m\n\u001b[0;32m    190\u001b[0m \n\u001b[0;32m    191\u001b[0m \u001b[38;5;124;03m\"\"\"\u001b[39;00m\n\u001b[0;32m    193\u001b[0m keylength \u001b[38;5;241m=\u001b[39m common\u001b[38;5;241m.\u001b[39mbyte_size(pub_key\u001b[38;5;241m.\u001b[39mn)\n\u001b[1;32m--> 194\u001b[0m padded \u001b[38;5;241m=\u001b[39m \u001b[43m_pad_for_encryption\u001b[49m\u001b[43m(\u001b[49m\u001b[43mmessage\u001b[49m\u001b[43m,\u001b[49m\u001b[43m \u001b[49m\u001b[43mkeylength\u001b[49m\u001b[43m)\u001b[49m\n\u001b[0;32m    196\u001b[0m payload \u001b[38;5;241m=\u001b[39m transform\u001b[38;5;241m.\u001b[39mbytes2int(padded)\n\u001b[0;32m    197\u001b[0m encrypted \u001b[38;5;241m=\u001b[39m core\u001b[38;5;241m.\u001b[39mencrypt_int(payload, pub_key\u001b[38;5;241m.\u001b[39me, pub_key\u001b[38;5;241m.\u001b[39mn)\n",
      "File \u001b[1;32m~\\AppData\\Local\\Programs\\Python\\Python310\\lib\\site-packages\\rsa\\pkcs1.py:112\u001b[0m, in \u001b[0;36m_pad_for_encryption\u001b[1;34m(message, target_length)\u001b[0m\n\u001b[0;32m    109\u001b[0m msglength \u001b[38;5;241m=\u001b[39m \u001b[38;5;28mlen\u001b[39m(message)\n\u001b[0;32m    111\u001b[0m \u001b[38;5;28;01mif\u001b[39;00m msglength \u001b[38;5;241m>\u001b[39m max_msglength:\n\u001b[1;32m--> 112\u001b[0m     \u001b[38;5;28;01mraise\u001b[39;00m \u001b[38;5;167;01mOverflowError\u001b[39;00m(\n\u001b[0;32m    113\u001b[0m         \u001b[38;5;124m\"\u001b[39m\u001b[38;5;132;01m%i\u001b[39;00m\u001b[38;5;124m bytes needed for message, but there is only\u001b[39m\u001b[38;5;124m\"\u001b[39m\n\u001b[0;32m    114\u001b[0m         \u001b[38;5;124m\"\u001b[39m\u001b[38;5;124m space for \u001b[39m\u001b[38;5;132;01m%i\u001b[39;00m\u001b[38;5;124m\"\u001b[39m \u001b[38;5;241m%\u001b[39m (msglength, max_msglength)\n\u001b[0;32m    115\u001b[0m     )\n\u001b[0;32m    117\u001b[0m \u001b[38;5;66;03m# Get random padding\u001b[39;00m\n\u001b[0;32m    118\u001b[0m padding \u001b[38;5;241m=\u001b[39m \u001b[38;5;124mb\u001b[39m\u001b[38;5;124m\"\u001b[39m\u001b[38;5;124m\"\u001b[39m\n",
      "\u001b[1;31mOverflowError\u001b[0m: 12 bytes needed for message, but there is only space for 5"
     ]
    }
   ],
   "source": [
    "for i in range(0,200):\n",
    "    enc_data=df.loc[i,'prod_id']\n",
    "    df.loc[i,'hash']=encrypt(enc_data,publicKey)"
   ]
  },
  {
   "cell_type": "code",
   "execution_count": null,
   "id": "067ad736",
   "metadata": {},
   "outputs": [],
   "source": [
    "print(df)"
   ]
  },
  {
   "cell_type": "code",
   "execution_count": null,
   "id": "018661a7",
   "metadata": {},
   "outputs": [],
   "source": [
    "df.to_csv('prod_data.csv')"
   ]
  },
  {
   "cell_type": "code",
   "execution_count": null,
   "id": "a49ced3c",
   "metadata": {},
   "outputs": [],
   "source": []
  }
 ],
 "metadata": {
  "kernelspec": {
   "display_name": "Python 3 (ipykernel)",
   "language": "python",
   "name": "python3"
  },
  "language_info": {
   "codemirror_mode": {
    "name": "ipython",
    "version": 3
   },
   "file_extension": ".py",
   "mimetype": "text/x-python",
   "name": "python",
   "nbconvert_exporter": "python",
   "pygments_lexer": "ipython3",
   "version": "3.10.3"
  }
 },
 "nbformat": 4,
 "nbformat_minor": 5
}
