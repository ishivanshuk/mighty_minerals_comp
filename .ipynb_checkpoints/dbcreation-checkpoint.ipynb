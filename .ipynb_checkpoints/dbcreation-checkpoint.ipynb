{
 "cells": [
  {
   "cell_type": "code",
   "execution_count": 1,
   "id": "cef485e3",
   "metadata": {},
   "outputs": [],
   "source": [
    "import csv\n",
    "import rsa\n"
   ]
  },
  {
   "cell_type": "code",
   "execution_count": 2,
   "id": "2f999fd5",
   "metadata": {
    "scrolled": true
   },
   "outputs": [
    {
     "data": {
      "text/plain": [
       "74"
      ]
     },
     "execution_count": 2,
     "metadata": {},
     "output_type": "execute_result"
    }
   ],
   "source": [
    "number_prod=12\n",
    "test_name='sasas'\n",
    "batch_number='WP500556F4342'\n",
    "\n",
    "f=open(batch_number+'.csv','w')\n",
    "header = ['name', 'mfg_date_dd-mm-yy','batch_number', 'number_products','checked','prod_id','hash']\n",
    "writer = csv.writer(f)\n",
    "writer.writerow(header)"
   ]
  },
  {
   "cell_type": "code",
   "execution_count": 3,
   "id": "f8badc5b",
   "metadata": {},
   "outputs": [],
   "source": [
    "data = [[test_name,'21-03-2021',batch_number,number_prod,'NO','','']]\n",
    "writer = csv.writer(f)"
   ]
  },
  {
   "cell_type": "code",
   "execution_count": 4,
   "id": "23264a34",
   "metadata": {},
   "outputs": [],
   "source": [
    "for i in range(0,number_prod):\n",
    "    writer.writerows(data)\n",
    "f.close()"
   ]
  },
  {
   "cell_type": "code",
   "execution_count": 5,
   "id": "d8d48c83",
   "metadata": {},
   "outputs": [],
   "source": [
    "import pandas as pd\n",
    "df=pd.read_csv(batch_number+'.csv')"
   ]
  },
  {
   "cell_type": "code",
   "execution_count": 6,
   "id": "f4158094",
   "metadata": {},
   "outputs": [],
   "source": [
    "for i in range(0,number_prod):\n",
    "    x=\"{:03d}\".format(i) #enter number of digits in number of products in table\n",
    "    df.loc[i,'prod_id']=df.loc[0,'batch_number']+x"
   ]
  },
  {
   "cell_type": "code",
   "execution_count": 7,
   "id": "baa87cd3",
   "metadata": {
    "scrolled": true
   },
   "outputs": [
    {
     "name": "stdout",
     "output_type": "stream",
     "text": [
      "     name mfg_date_dd-mm-yy   batch_number  number_products checked  \\\n",
      "0   sasas        21-03-2021  WP500556F4342               12      NO   \n",
      "1   sasas        21-03-2021  WP500556F4342               12      NO   \n",
      "2   sasas        21-03-2021  WP500556F4342               12      NO   \n",
      "3   sasas        21-03-2021  WP500556F4342               12      NO   \n",
      "4   sasas        21-03-2021  WP500556F4342               12      NO   \n",
      "5   sasas        21-03-2021  WP500556F4342               12      NO   \n",
      "6   sasas        21-03-2021  WP500556F4342               12      NO   \n",
      "7   sasas        21-03-2021  WP500556F4342               12      NO   \n",
      "8   sasas        21-03-2021  WP500556F4342               12      NO   \n",
      "9   sasas        21-03-2021  WP500556F4342               12      NO   \n",
      "10  sasas        21-03-2021  WP500556F4342               12      NO   \n",
      "11  sasas        21-03-2021  WP500556F4342               12      NO   \n",
      "\n",
      "             prod_id  hash  \n",
      "0   WP500556F4342000   NaN  \n",
      "1   WP500556F4342001   NaN  \n",
      "2   WP500556F4342002   NaN  \n",
      "3   WP500556F4342003   NaN  \n",
      "4   WP500556F4342004   NaN  \n",
      "5   WP500556F4342005   NaN  \n",
      "6   WP500556F4342006   NaN  \n",
      "7   WP500556F4342007   NaN  \n",
      "8   WP500556F4342008   NaN  \n",
      "9   WP500556F4342009   NaN  \n",
      "10  WP500556F4342010   NaN  \n",
      "11  WP500556F4342011   NaN  \n"
     ]
    }
   ],
   "source": [
    "print(df)\n"
   ]
  },
  {
   "cell_type": "code",
   "execution_count": 8,
   "id": "465d86ce",
   "metadata": {},
   "outputs": [],
   "source": [
    "def loadKeys():\n",
    "    with open('keys/publicKey.pem', 'rb') as p:\n",
    "        publicKey = rsa.PublicKey.load_pkcs1(p.read())\n",
    "    with open('keys/privateKey.pem', 'rb') as p:\n",
    "        privateKey = rsa.PrivateKey.load_pkcs1(p.read())\n",
    "    return privateKey, publicKey"
   ]
  },
  {
   "cell_type": "code",
   "execution_count": 9,
   "id": "a123d3b5",
   "metadata": {},
   "outputs": [],
   "source": [
    "def encrypt(message, key):\n",
    "    return rsa.encrypt(message.encode('ascii'), key)"
   ]
  },
  {
   "cell_type": "code",
   "execution_count": 10,
   "id": "1d821f92",
   "metadata": {},
   "outputs": [],
   "source": [
    "def decrypt(ciphertext, key):\n",
    "    try:\n",
    "        return rsa.decrypt(ciphertext, key).decode('ascii')\n",
    "    except:\n",
    "        return False"
   ]
  },
  {
   "cell_type": "code",
   "execution_count": 11,
   "id": "b8985648",
   "metadata": {},
   "outputs": [],
   "source": [
    "privateKey, publicKey =loadKeys()"
   ]
  },
  {
   "cell_type": "code",
   "execution_count": 12,
   "id": "2428d8b2",
   "metadata": {},
   "outputs": [],
   "source": [
    "for i in range(0,number_prod):\n",
    "    enc_data=df.loc[i,'prod_id']\n",
    "    df.loc[i,'hash']=encrypt(enc_data,publicKey)"
   ]
  },
  {
   "cell_type": "code",
   "execution_count": 13,
   "id": "84714981",
   "metadata": {
    "scrolled": true
   },
   "outputs": [
    {
     "name": "stdout",
     "output_type": "stream",
     "text": [
      "     name mfg_date_dd-mm-yy   batch_number  number_products checked  \\\n",
      "0   sasas        21-03-2021  WP500556F4342               12      NO   \n",
      "1   sasas        21-03-2021  WP500556F4342               12      NO   \n",
      "2   sasas        21-03-2021  WP500556F4342               12      NO   \n",
      "3   sasas        21-03-2021  WP500556F4342               12      NO   \n",
      "4   sasas        21-03-2021  WP500556F4342               12      NO   \n",
      "5   sasas        21-03-2021  WP500556F4342               12      NO   \n",
      "6   sasas        21-03-2021  WP500556F4342               12      NO   \n",
      "7   sasas        21-03-2021  WP500556F4342               12      NO   \n",
      "8   sasas        21-03-2021  WP500556F4342               12      NO   \n",
      "9   sasas        21-03-2021  WP500556F4342               12      NO   \n",
      "10  sasas        21-03-2021  WP500556F4342               12      NO   \n",
      "11  sasas        21-03-2021  WP500556F4342               12      NO   \n",
      "\n",
      "             prod_id                                               hash  \n",
      "0   WP500556F4342000  b'v\\xc3E\\x9bOa\\x9bI\\xa8\\xdel\\xdew\\xeb\\x1c-4@k\\...  \n",
      "1   WP500556F4342001  b'\\x85\\xd2\\xfd\\xc0N\\x9bL\\x0e\\x1a%K]\\x0f\\x9c;\\x...  \n",
      "2   WP500556F4342002  b'v(\\xc2\\x8c8$r9\\x00Fk\\x8e\\xd9\\x97ZM\\xc3\\x83\\x...  \n",
      "3   WP500556F4342003  b'O*G[\\x07[\\xd7\\x83\\x80\\x95\\xd0\\xa37)\\x18*%\\x1...  \n",
      "4   WP500556F4342004  b'\\x94w\\xe4\\xb5 \\xf6}P\\x83*^C\\x97\\x97\\xe5\\xc1\\...  \n",
      "5   WP500556F4342005  b'\\x1av\\xd5u\\x0b\\xa8\\xab\\xde&\\x86\\x98\\x05@\\xb1...  \n",
      "6   WP500556F4342006  b'\\xb6&\\xb65\\\\\\xac\\x8d(\\xcd\\xbb%\\xc4aX\\xd6t\\xa...  \n",
      "7   WP500556F4342007  b'2\\x8b \\xf3j\\x9c\\x817\\x95M\\x8bnqc?\\xcbN\\xc9\\x...  \n",
      "8   WP500556F4342008  b'\\xac\\xaf\\xdd\\xe5u\\x0c\\xca\\x19\\n\\xd2\\xd6$7{\\x...  \n",
      "9   WP500556F4342009  b'hF=\\x95\\xfdyb\\xd2\\xdbu\\x96 \\xafb\\xc2\\xd1\\x8e...  \n",
      "10  WP500556F4342010  b'k>o6\\xb4\\xd1T\\xfb\\xbd\\xee=\\x10i\\x91\\xe7\\xa4\\...  \n",
      "11  WP500556F4342011  b'\\xa0\\x14\\x87\\x00\\xcd=Y\\x90r\\x1c\\xc1t\\xb8\\xa6...  \n"
     ]
    }
   ],
   "source": [
    "print(df)"
   ]
  },
  {
   "cell_type": "code",
   "execution_count": 14,
   "id": "6b96aefd",
   "metadata": {},
   "outputs": [],
   "source": [
    "df.to_csv('prod_data.csv', mode='a', index=True, header=False)\n",
    "df.to_csv(batch_number+'.csv')"
   ]
  },
  {
   "cell_type": "code",
   "execution_count": 15,
   "id": "61bef6b1",
   "metadata": {},
   "outputs": [
    {
     "ename": "FileExistsError",
     "evalue": "[WinError 183] Cannot create a file when that file already exists: 'WP500556F45'",
     "output_type": "error",
     "traceback": [
      "\u001b[1;31m---------------------------------------------------------------------------\u001b[0m",
      "\u001b[1;31mFileExistsError\u001b[0m                           Traceback (most recent call last)",
      "Input \u001b[1;32mIn [15]\u001b[0m, in \u001b[0;36m<cell line: 12>\u001b[1;34m()\u001b[0m\n\u001b[0;32m      9\u001b[0m df\u001b[38;5;241m=\u001b[39mpd\u001b[38;5;241m.\u001b[39mread_csv(\u001b[38;5;124m'\u001b[39m\u001b[38;5;124mprod_data.csv\u001b[39m\u001b[38;5;124m'\u001b[39m)\n\u001b[0;32m     11\u001b[0m y\u001b[38;5;241m=\u001b[39mdf\u001b[38;5;241m.\u001b[39mloc[\u001b[38;5;241m0\u001b[39m,\u001b[38;5;124m\"\u001b[39m\u001b[38;5;124mbatch_number\u001b[39m\u001b[38;5;124m\"\u001b[39m]\n\u001b[1;32m---> 12\u001b[0m \u001b[43mos\u001b[49m\u001b[38;5;241;43m.\u001b[39;49m\u001b[43mmkdir\u001b[49m\u001b[43m(\u001b[49m\u001b[43my\u001b[49m\u001b[43m)\u001b[49m\n\u001b[0;32m     14\u001b[0m \u001b[38;5;28;01mwith\u001b[39;00m \u001b[38;5;28mopen\u001b[39m(batch_number\u001b[38;5;241m+\u001b[39m\u001b[38;5;124m'\u001b[39m\u001b[38;5;124m.csv\u001b[39m\u001b[38;5;124m'\u001b[39m, mode\u001b[38;5;241m=\u001b[39m\u001b[38;5;124m'\u001b[39m\u001b[38;5;124mr\u001b[39m\u001b[38;5;124m'\u001b[39m) \u001b[38;5;28;01mas\u001b[39;00m csv_file:\n\u001b[0;32m     15\u001b[0m     csv_reader \u001b[38;5;241m=\u001b[39m csv\u001b[38;5;241m.\u001b[39mDictReader(csv_file)\n",
      "\u001b[1;31mFileExistsError\u001b[0m: [WinError 183] Cannot create a file when that file already exists: 'WP500556F45'"
     ]
    }
   ],
   "source": [
    "# import modules\n",
    "import qrcode\n",
    "from PIL import Image\n",
    "import os\n",
    "import pandas as pd\n",
    "import csv\n",
    "\n",
    "\n",
    "df=pd.read_csv(batch_number+'.csv')\n",
    "\n",
    "y=df.loc[0,\"batch_number\"]\n",
    "os.mkdir(y)\n",
    "\n",
    "with open(batch_number+'.csv', mode='r') as csv_file:\n",
    "    csv_reader = csv.DictReader(csv_file)\n",
    "    line_count = 0\n",
    "\t\n",
    "    for row in csv_reader:\n",
    "\t\t\t\t\tLogo_link = 'logo.jpg'\n",
    "\n",
    "\t\t\t\t\tlogo = Image.open(Logo_link)\n",
    "\n",
    "# taking base width\n",
    "\t\t\t\t\tbasewidth = 100\n",
    "\n",
    "# adjust image size\n",
    "\t\t\t\t\twpercent = (basewidth/float(logo.size[0]))\n",
    "\t\t\t\t\thsize = int((float(logo.size[1])*float(wpercent)))\n",
    "\t\t\t\t\tlogo = logo.resize((basewidth, hsize), Image.ANTIALIAS)\n",
    "\t\t\t\t\tQRcode = qrcode.QRCode(\n",
    "\t\t\t\t\t\terror_correction=qrcode.constants.ERROR_CORRECT_H\n",
    "\t\t\t\t\t)\n",
    "\t\t\t\t\tid = row[\"hash\"]\n",
    "\n",
    "# adding URL or text to QRcode\n",
    "\t\t\t\t\tQRcode.add_data(id)\n",
    "\n",
    "# generating QR code\n",
    "\t\t\t\t\tQRcode.make()\n",
    "\n",
    "# taking color name from user\n",
    "\t\t\t\t\tQRcolor = 'black'\n",
    "\n",
    "# adding color to QR code\n",
    "\t\t\t\t\tQRimg = QRcode.make_image(\n",
    "\t\t\t\t\t\tfill_color=QRcolor, back_color=\"white\").convert('RGB')\n",
    "\n",
    "# set size of QR code\n",
    "\t\t\t\t\tpos = ((QRimg.size[0] - logo.size[0]) //2,\n",
    "\t\t\t\t\t\t(QRimg.size[1] - logo.size[1]) // 2)\n",
    "\t\t\t\t\tQRimg.paste(logo, pos)\n",
    "\n",
    "# save the QR code generated\n",
    "\t\t\t\t\tx=row[\"prod_id\"]\n",
    "\t\t\t\t\tsave_name=y+'/qr_'+x+'.png'\n",
    "\t\t\t\t\tif(QRimg.save(save_name)):\n",
    "\t\t\t\t\t\tprint('QR generation failed for',x)\n",
    "\t\t\t\t\telse:\n",
    "\t\t\t\t\t\tprint('QR generated for',x)\n",
    "\t\t\t\t\t\n",
    "\t\t\t\t\tdel x"
   ]
  },
  {
   "cell_type": "code",
   "execution_count": null,
   "id": "5adc0708",
   "metadata": {},
   "outputs": [],
   "source": []
  },
  {
   "cell_type": "code",
   "execution_count": null,
   "id": "837189d3",
   "metadata": {},
   "outputs": [],
   "source": []
  }
 ],
 "metadata": {
  "kernelspec": {
   "display_name": "Python 3 (ipykernel)",
   "language": "python",
   "name": "python3"
  },
  "language_info": {
   "codemirror_mode": {
    "name": "ipython",
    "version": 3
   },
   "file_extension": ".py",
   "mimetype": "text/x-python",
   "name": "python",
   "nbconvert_exporter": "python",
   "pygments_lexer": "ipython3",
   "version": "3.10.3"
  }
 },
 "nbformat": 4,
 "nbformat_minor": 5
}
