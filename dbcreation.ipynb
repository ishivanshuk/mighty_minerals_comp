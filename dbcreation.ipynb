{
 "cells": [
  {
   "cell_type": "code",
   "execution_count": 1,
   "id": "cef485e3",
   "metadata": {},
   "outputs": [],
   "source": [
    "import csv\n",
    "import rsa\n"
   ]
  },
  {
   "cell_type": "code",
   "execution_count": 2,
   "id": "2f999fd5",
   "metadata": {
    "scrolled": true
   },
   "outputs": [
    {
     "data": {
      "text/plain": [
       "74"
      ]
     },
     "execution_count": 2,
     "metadata": {},
     "output_type": "execute_result"
    }
   ],
   "source": [
    "number_prod=43\n",
    "test_name='sos'\n",
    "batch_number='WP500556FASD123'\n",
    "mfg_date='21-03-2012'\n",
    "\n",
    "f=open(batch_number+'.csv','w')\n",
    "header = ['name', 'mfg_date_dd-mm-yy','batch_number', 'number_products','checked','prod_id','hash']\n",
    "writer = csv.writer(f)\n",
    "writer.writerow(header)"
   ]
  },
  {
   "cell_type": "code",
   "execution_count": 3,
   "id": "f8badc5b",
   "metadata": {},
   "outputs": [],
   "source": [
    "data = [[test_name,mfg_date,batch_number,number_prod,'NO','','']]\n",
    "writer = csv.writer(f)"
   ]
  },
  {
   "cell_type": "code",
   "execution_count": 4,
   "id": "23264a34",
   "metadata": {},
   "outputs": [],
   "source": [
    "for i in range(0,number_prod):\n",
    "    writer.writerows(data)\n",
    "f.close()"
   ]
  },
  {
   "cell_type": "code",
   "execution_count": 5,
   "id": "d8d48c83",
   "metadata": {},
   "outputs": [],
   "source": [
    "import pandas as pd\n",
    "df=pd.read_csv(batch_number+'.csv')"
   ]
  },
  {
   "cell_type": "code",
   "execution_count": 6,
   "id": "f4158094",
   "metadata": {},
   "outputs": [],
   "source": [
    "for i in range(0,number_prod):\n",
    "    x=\"{:03d}\".format(i) #enter number of digits in number of products in table\n",
    "    df.loc[i,'prod_id']=df.loc[0,'batch_number']+x"
   ]
  },
  {
   "cell_type": "code",
   "execution_count": 7,
   "id": "baa87cd3",
   "metadata": {
    "scrolled": true
   },
   "outputs": [
    {
     "name": "stdout",
     "output_type": "stream",
     "text": [
      "   name mfg_date_dd-mm-yy     batch_number  number_products checked  \\\n",
      "0   sos        21-03-2012  WP500556FASD123               43      NO   \n",
      "1   sos        21-03-2012  WP500556FASD123               43      NO   \n",
      "2   sos        21-03-2012  WP500556FASD123               43      NO   \n",
      "3   sos        21-03-2012  WP500556FASD123               43      NO   \n",
      "4   sos        21-03-2012  WP500556FASD123               43      NO   \n",
      "5   sos        21-03-2012  WP500556FASD123               43      NO   \n",
      "6   sos        21-03-2012  WP500556FASD123               43      NO   \n",
      "7   sos        21-03-2012  WP500556FASD123               43      NO   \n",
      "8   sos        21-03-2012  WP500556FASD123               43      NO   \n",
      "9   sos        21-03-2012  WP500556FASD123               43      NO   \n",
      "10  sos        21-03-2012  WP500556FASD123               43      NO   \n",
      "11  sos        21-03-2012  WP500556FASD123               43      NO   \n",
      "12  sos        21-03-2012  WP500556FASD123               43      NO   \n",
      "13  sos        21-03-2012  WP500556FASD123               43      NO   \n",
      "14  sos        21-03-2012  WP500556FASD123               43      NO   \n",
      "15  sos        21-03-2012  WP500556FASD123               43      NO   \n",
      "16  sos        21-03-2012  WP500556FASD123               43      NO   \n",
      "17  sos        21-03-2012  WP500556FASD123               43      NO   \n",
      "18  sos        21-03-2012  WP500556FASD123               43      NO   \n",
      "19  sos        21-03-2012  WP500556FASD123               43      NO   \n",
      "20  sos        21-03-2012  WP500556FASD123               43      NO   \n",
      "21  sos        21-03-2012  WP500556FASD123               43      NO   \n",
      "22  sos        21-03-2012  WP500556FASD123               43      NO   \n",
      "23  sos        21-03-2012  WP500556FASD123               43      NO   \n",
      "24  sos        21-03-2012  WP500556FASD123               43      NO   \n",
      "25  sos        21-03-2012  WP500556FASD123               43      NO   \n",
      "26  sos        21-03-2012  WP500556FASD123               43      NO   \n",
      "27  sos        21-03-2012  WP500556FASD123               43      NO   \n",
      "28  sos        21-03-2012  WP500556FASD123               43      NO   \n",
      "29  sos        21-03-2012  WP500556FASD123               43      NO   \n",
      "30  sos        21-03-2012  WP500556FASD123               43      NO   \n",
      "31  sos        21-03-2012  WP500556FASD123               43      NO   \n",
      "32  sos        21-03-2012  WP500556FASD123               43      NO   \n",
      "33  sos        21-03-2012  WP500556FASD123               43      NO   \n",
      "34  sos        21-03-2012  WP500556FASD123               43      NO   \n",
      "35  sos        21-03-2012  WP500556FASD123               43      NO   \n",
      "36  sos        21-03-2012  WP500556FASD123               43      NO   \n",
      "37  sos        21-03-2012  WP500556FASD123               43      NO   \n",
      "38  sos        21-03-2012  WP500556FASD123               43      NO   \n",
      "39  sos        21-03-2012  WP500556FASD123               43      NO   \n",
      "40  sos        21-03-2012  WP500556FASD123               43      NO   \n",
      "41  sos        21-03-2012  WP500556FASD123               43      NO   \n",
      "42  sos        21-03-2012  WP500556FASD123               43      NO   \n",
      "\n",
      "               prod_id  hash  \n",
      "0   WP500556FASD123000   NaN  \n",
      "1   WP500556FASD123001   NaN  \n",
      "2   WP500556FASD123002   NaN  \n",
      "3   WP500556FASD123003   NaN  \n",
      "4   WP500556FASD123004   NaN  \n",
      "5   WP500556FASD123005   NaN  \n",
      "6   WP500556FASD123006   NaN  \n",
      "7   WP500556FASD123007   NaN  \n",
      "8   WP500556FASD123008   NaN  \n",
      "9   WP500556FASD123009   NaN  \n",
      "10  WP500556FASD123010   NaN  \n",
      "11  WP500556FASD123011   NaN  \n",
      "12  WP500556FASD123012   NaN  \n",
      "13  WP500556FASD123013   NaN  \n",
      "14  WP500556FASD123014   NaN  \n",
      "15  WP500556FASD123015   NaN  \n",
      "16  WP500556FASD123016   NaN  \n",
      "17  WP500556FASD123017   NaN  \n",
      "18  WP500556FASD123018   NaN  \n",
      "19  WP500556FASD123019   NaN  \n",
      "20  WP500556FASD123020   NaN  \n",
      "21  WP500556FASD123021   NaN  \n",
      "22  WP500556FASD123022   NaN  \n",
      "23  WP500556FASD123023   NaN  \n",
      "24  WP500556FASD123024   NaN  \n",
      "25  WP500556FASD123025   NaN  \n",
      "26  WP500556FASD123026   NaN  \n",
      "27  WP500556FASD123027   NaN  \n",
      "28  WP500556FASD123028   NaN  \n",
      "29  WP500556FASD123029   NaN  \n",
      "30  WP500556FASD123030   NaN  \n",
      "31  WP500556FASD123031   NaN  \n",
      "32  WP500556FASD123032   NaN  \n",
      "33  WP500556FASD123033   NaN  \n",
      "34  WP500556FASD123034   NaN  \n",
      "35  WP500556FASD123035   NaN  \n",
      "36  WP500556FASD123036   NaN  \n",
      "37  WP500556FASD123037   NaN  \n",
      "38  WP500556FASD123038   NaN  \n",
      "39  WP500556FASD123039   NaN  \n",
      "40  WP500556FASD123040   NaN  \n",
      "41  WP500556FASD123041   NaN  \n",
      "42  WP500556FASD123042   NaN  \n"
     ]
    }
   ],
   "source": [
    "print(df)\n"
   ]
  },
  {
   "cell_type": "code",
   "execution_count": 8,
   "id": "465d86ce",
   "metadata": {},
   "outputs": [],
   "source": [
    "def loadKeys():\n",
    "    with open('keys/publicKey.pem', 'rb') as p:\n",
    "        publicKey = rsa.PublicKey.load_pkcs1(p.read())\n",
    "    with open('keys/privateKey.pem', 'rb') as p:\n",
    "        privateKey = rsa.PrivateKey.load_pkcs1(p.read())\n",
    "    return privateKey, publicKey"
   ]
  },
  {
   "cell_type": "code",
   "execution_count": 9,
   "id": "a123d3b5",
   "metadata": {},
   "outputs": [],
   "source": [
    "def encrypt(message, key):\n",
    "    return rsa.encrypt(message.encode('ascii'), key)"
   ]
  },
  {
   "cell_type": "code",
   "execution_count": 10,
   "id": "1d821f92",
   "metadata": {},
   "outputs": [],
   "source": [
    "def decrypt(ciphertext, key):\n",
    "    try:\n",
    "        return rsa.decrypt(ciphertext, key).decode('ascii')\n",
    "    except:\n",
    "        return False"
   ]
  },
  {
   "cell_type": "code",
   "execution_count": 11,
   "id": "b8985648",
   "metadata": {},
   "outputs": [],
   "source": [
    "privateKey, publicKey =loadKeys()"
   ]
  },
  {
   "cell_type": "code",
   "execution_count": 12,
   "id": "2428d8b2",
   "metadata": {},
   "outputs": [],
   "source": [
    "for i in range(0,number_prod):\n",
    "    enc_data=df.loc[i,'prod_id']\n",
    "    df.loc[i,'hash']=encrypt(enc_data,publicKey)"
   ]
  },
  {
   "cell_type": "code",
   "execution_count": 13,
   "id": "84714981",
   "metadata": {
    "scrolled": true
   },
   "outputs": [
    {
     "name": "stdout",
     "output_type": "stream",
     "text": [
      "   name mfg_date_dd-mm-yy     batch_number  number_products checked  \\\n",
      "0   sos        21-03-2012  WP500556FASD123               43      NO   \n",
      "1   sos        21-03-2012  WP500556FASD123               43      NO   \n",
      "2   sos        21-03-2012  WP500556FASD123               43      NO   \n",
      "3   sos        21-03-2012  WP500556FASD123               43      NO   \n",
      "4   sos        21-03-2012  WP500556FASD123               43      NO   \n",
      "5   sos        21-03-2012  WP500556FASD123               43      NO   \n",
      "6   sos        21-03-2012  WP500556FASD123               43      NO   \n",
      "7   sos        21-03-2012  WP500556FASD123               43      NO   \n",
      "8   sos        21-03-2012  WP500556FASD123               43      NO   \n",
      "9   sos        21-03-2012  WP500556FASD123               43      NO   \n",
      "10  sos        21-03-2012  WP500556FASD123               43      NO   \n",
      "11  sos        21-03-2012  WP500556FASD123               43      NO   \n",
      "12  sos        21-03-2012  WP500556FASD123               43      NO   \n",
      "13  sos        21-03-2012  WP500556FASD123               43      NO   \n",
      "14  sos        21-03-2012  WP500556FASD123               43      NO   \n",
      "15  sos        21-03-2012  WP500556FASD123               43      NO   \n",
      "16  sos        21-03-2012  WP500556FASD123               43      NO   \n",
      "17  sos        21-03-2012  WP500556FASD123               43      NO   \n",
      "18  sos        21-03-2012  WP500556FASD123               43      NO   \n",
      "19  sos        21-03-2012  WP500556FASD123               43      NO   \n",
      "20  sos        21-03-2012  WP500556FASD123               43      NO   \n",
      "21  sos        21-03-2012  WP500556FASD123               43      NO   \n",
      "22  sos        21-03-2012  WP500556FASD123               43      NO   \n",
      "23  sos        21-03-2012  WP500556FASD123               43      NO   \n",
      "24  sos        21-03-2012  WP500556FASD123               43      NO   \n",
      "25  sos        21-03-2012  WP500556FASD123               43      NO   \n",
      "26  sos        21-03-2012  WP500556FASD123               43      NO   \n",
      "27  sos        21-03-2012  WP500556FASD123               43      NO   \n",
      "28  sos        21-03-2012  WP500556FASD123               43      NO   \n",
      "29  sos        21-03-2012  WP500556FASD123               43      NO   \n",
      "30  sos        21-03-2012  WP500556FASD123               43      NO   \n",
      "31  sos        21-03-2012  WP500556FASD123               43      NO   \n",
      "32  sos        21-03-2012  WP500556FASD123               43      NO   \n",
      "33  sos        21-03-2012  WP500556FASD123               43      NO   \n",
      "34  sos        21-03-2012  WP500556FASD123               43      NO   \n",
      "35  sos        21-03-2012  WP500556FASD123               43      NO   \n",
      "36  sos        21-03-2012  WP500556FASD123               43      NO   \n",
      "37  sos        21-03-2012  WP500556FASD123               43      NO   \n",
      "38  sos        21-03-2012  WP500556FASD123               43      NO   \n",
      "39  sos        21-03-2012  WP500556FASD123               43      NO   \n",
      "40  sos        21-03-2012  WP500556FASD123               43      NO   \n",
      "41  sos        21-03-2012  WP500556FASD123               43      NO   \n",
      "42  sos        21-03-2012  WP500556FASD123               43      NO   \n",
      "\n",
      "               prod_id                                               hash  \n",
      "0   WP500556FASD123000  b'\\x0f\\xe1 \\xa9D\\xb6b\\xae\\x1aG\\x98\\xd2?\\xec\\xf...  \n",
      "1   WP500556FASD123001  b\"\\x03\\x9f'F\\x0f\\xdcQ\\xbf\\xd1b\\x80\\xb8X|/\\xfa\\...  \n",
      "2   WP500556FASD123002  b'\\xbc\\xf3\\xe9\\xbb\\xba\"f2\\x04\\xab\\'\\x7fA\\x9e\\x...  \n",
      "3   WP500556FASD123003  b'k\\xa2`\\xc8\\n-\\x03Q/\\x1d\\x91:\\x1cw,\\x16?R\\xf0...  \n",
      "4   WP500556FASD123004  b\"\\xac\\x9e\\x9a\\x15\\x80\\x01\\xd2]\\xbb\\xa7\\xe9)\\x...  \n",
      "5   WP500556FASD123005  b\"\\x14\\x993\\xc4\\x15=\\x85\\x97,\\xc5'Pn21\\xd7\\x86...  \n",
      "6   WP500556FASD123006  b'\\x9e$\\xdd\\xef\\xa8V1X{K2\\xc1\\x88u\\xf2\\xc0\\xbe...  \n",
      "7   WP500556FASD123007  b':\\xb0!\\x0eAg\\xf2\\xa9?B\\xb6T\\x8e\\xf10\\xb6n\\x9...  \n",
      "8   WP500556FASD123008  b'\\xaa\\x8b\\x18+#\"\\xda@\\xa7k\\xe1\\x96sb-\\x97\\n\\x...  \n",
      "9   WP500556FASD123009  b'\\xc2\\xfd\\xb5D\\x89\\x0b\\xe5F\\xb2\\x97}8\\x0f\\xf3...  \n",
      "10  WP500556FASD123010  b'\\x85T\\x8c\\x05uAQohC\\x17\\x11\\xde\\x1c\\xd0\\xa6\\...  \n",
      "11  WP500556FASD123011  b'1&\\xb1\\xe84h\\x85\\x05\\x91u\\x88tit\\xb5m4 KGY\\x...  \n",
      "12  WP500556FASD123012  b'\\x99Z|C\\x1c\\xb3\\x08p\\x9a\"\\x13g\\xa0\\x94\\xd8\\x...  \n",
      "13  WP500556FASD123013  b'\\xb2\\xa8/\\x82z\\x15\\x94\\t\\r\\xe7L\\x13{\\x0b{\\xb...  \n",
      "14  WP500556FASD123014  b',\\xbds\\x04\\xc0\\x1b`\\xe1Sw\\xd9\\xa4\\xe2<\\x88\\x...  \n",
      "15  WP500556FASD123015  b'\"\\xba\\xbf\\xb8\\xd3\\x9b\\x02\\x18n\\xe4>\\x91M\\xd6...  \n",
      "16  WP500556FASD123016  b'\\xc5S\\x1b}wQ\\xaa]\\xae^WP\\xd9\\x84\\x9e\\xd1\\xf8...  \n",
      "17  WP500556FASD123017  b'\\x9c\\x14RH\\x11\\xa6\\xe0\\x8e\\x7fg,\\xa1R\\xbbr\\x...  \n",
      "18  WP500556FASD123018  b'\\x8a\\xac\\xbc;\\x93\\x13\\xed\\xed3)B\\xb9\\xf1VK\\x...  \n",
      "19  WP500556FASD123019  b'y\\x9a\\x1d\\x17\\xa8\\xa1r\\xd0\\xbd&\\xa4\\x03.\\xc2...  \n",
      "20  WP500556FASD123020  b'\\xb43.\\x8c\\xf9\\x8f\\xa6\\xc3\\xcd\\x8c \\xc5\\x95\\...  \n",
      "21  WP500556FASD123021  b'WP\\xea\\xae\\xcf\\xc6\\x08M8\\x1cJ\\x8b\\x05\\x90\\x0...  \n",
      "22  WP500556FASD123022  b'\\x8a\\x85\\xd1\\xd5\\t@\\xee4\\xe6@\\x99\\xb2\\x13\\xd...  \n",
      "23  WP500556FASD123023  b'\\xbe\\xc7\\xd8\\x86\\x1b\\x9d\\xfay\\xa3:\\xef\\x15\\x...  \n",
      "24  WP500556FASD123024  b'_\\xb3z\\xe5L\\xd2\\xfc1.\\xc6|\\xea\\x0c\\xc5f8\\xe3...  \n",
      "25  WP500556FASD123025  b'\\x823S\\x8f)rz\\xa0\\xd3\\x03\\x02\\xdf\\x99\\xdc\\xe...  \n",
      "26  WP500556FASD123026  b'N\\x1aR\\xbd\\x14\\xf1Q\\x07@\\x19s&\\x10{uDC{\\x16\\...  \n",
      "27  WP500556FASD123027  b'u\\xf4\\xa8\\x9f\\xe3\\xd1\\x12\\xe8\\xa3\\x08\\xae\\x1...  \n",
      "28  WP500556FASD123028  b'9,\\x10\\xbfc\\xd5/e?\\xba\\xcf\\xf7Y\\xcbm\\xa7\\x06...  \n",
      "29  WP500556FASD123029  b\"\\xbc\\xbe\\xaf~\\x99{D9_\\xcb'\\xd9^7\\x93\\xfa\\x8c...  \n",
      "30  WP500556FASD123030  b\"f\\xc3(\\xc2o#\\xa2\\t\\x84\\xac\\xda'c\\xf6^f\\xcdWz...  \n",
      "31  WP500556FASD123031  b\"]\\x13~o\\xf7!=\\x902\\xb7\\x9c5\\xb8{\\x9f\\x9a\\xee...  \n",
      "32  WP500556FASD123032  b'\\x18\\x11E\\xf8+\\xa3\\xa7Ds\\xc7\\xef\\x1c\\xa6\\xb4...  \n",
      "33  WP500556FASD123033  b'\\xb0\\x18K\\xf4\\x97\\xc5\\xc8\\xc78\\xb5u2\\xf1\\xfd...  \n",
      "34  WP500556FASD123034  b'\\x9f2-Pj\\xf5\\x86T\\xc3\\x1e\\x16=>\\xf7\\x13\\x1d_...  \n",
      "35  WP500556FASD123035  b':\\xd4P\\x17\\xeee\\xa6\\xa7\\xf92zG\\xac\\xd8\\xc5$\\...  \n",
      "36  WP500556FASD123036  b\"\\xc2H\\x82\\xe8m^\\xb3\\xa2'\\xbe\\xa9+\\x808\\xcc\\x...  \n",
      "37  WP500556FASD123037  b'\\n\\xb3P%Y\\xa4e9\\xadD\\xc4\\xac\\xdc\\x18k\\xb0\\xa...  \n",
      "38  WP500556FASD123038  b'\\xa5\"g\\xa4\\x0f\\xcc\\xc50\\xd2\\x19\\x90\\x9a\\x03/...  \n",
      "39  WP500556FASD123039  b'\\xad\\\\HPb\\xc8\\xddG|%\\x94d\\x9bc\\xa3\\x89\\xe2\\x...  \n",
      "40  WP500556FASD123040  b'\\x11\\xb7\\x7f\\x8cC\\x1b\\xde\\x0b\\xba\\x7f\\xf2\\xb...  \n",
      "41  WP500556FASD123041  b'\\nB\\xaf\\x0bb\\x82w\\xfa\\x1d\\xe1\\xcf\\x8cM\\xfcyU...  \n",
      "42  WP500556FASD123042  b\"}\\xcd:\\xbf\\xa8\\x87\\xea\\x84(\\x11\\xcb\\x12p\\xbd...  \n"
     ]
    }
   ],
   "source": [
    "print(df)"
   ]
  },
  {
   "cell_type": "code",
   "execution_count": 14,
   "id": "6b96aefd",
   "metadata": {},
   "outputs": [],
   "source": [
    "df.to_csv('prod_data.csv', mode='a', index=True, header=False)\n",
    "df.to_csv(batch_number+'.csv')"
   ]
  },
  {
   "cell_type": "code",
   "execution_count": 15,
   "id": "61bef6b1",
   "metadata": {},
   "outputs": [
    {
     "name": "stdout",
     "output_type": "stream",
     "text": [
      "QR generated for WP500556FASD123000\n",
      "QR generated for WP500556FASD123001\n",
      "QR generated for WP500556FASD123002\n",
      "QR generated for WP500556FASD123003\n",
      "QR generated for WP500556FASD123004\n",
      "QR generated for WP500556FASD123005\n",
      "QR generated for WP500556FASD123006\n",
      "QR generated for WP500556FASD123007\n",
      "QR generated for WP500556FASD123008\n",
      "QR generated for WP500556FASD123009\n",
      "QR generated for WP500556FASD123010\n",
      "QR generated for WP500556FASD123011\n",
      "QR generated for WP500556FASD123012\n",
      "QR generated for WP500556FASD123013\n",
      "QR generated for WP500556FASD123014\n",
      "QR generated for WP500556FASD123015\n",
      "QR generated for WP500556FASD123016\n",
      "QR generated for WP500556FASD123017\n",
      "QR generated for WP500556FASD123018\n",
      "QR generated for WP500556FASD123019\n",
      "QR generated for WP500556FASD123020\n",
      "QR generated for WP500556FASD123021\n",
      "QR generated for WP500556FASD123022\n",
      "QR generated for WP500556FASD123023\n",
      "QR generated for WP500556FASD123024\n",
      "QR generated for WP500556FASD123025\n",
      "QR generated for WP500556FASD123026\n",
      "QR generated for WP500556FASD123027\n",
      "QR generated for WP500556FASD123028\n",
      "QR generated for WP500556FASD123029\n",
      "QR generated for WP500556FASD123030\n",
      "QR generated for WP500556FASD123031\n",
      "QR generated for WP500556FASD123032\n",
      "QR generated for WP500556FASD123033\n",
      "QR generated for WP500556FASD123034\n",
      "QR generated for WP500556FASD123035\n",
      "QR generated for WP500556FASD123036\n",
      "QR generated for WP500556FASD123037\n",
      "QR generated for WP500556FASD123038\n",
      "QR generated for WP500556FASD123039\n",
      "QR generated for WP500556FASD123040\n",
      "QR generated for WP500556FASD123041\n",
      "QR generated for WP500556FASD123042\n"
     ]
    }
   ],
   "source": [
    "# import modules\n",
    "import qrcode\n",
    "from PIL import Image\n",
    "import os\n",
    "import pandas as pd\n",
    "import csv\n",
    "\n",
    "\n",
    "df=pd.read_csv(batch_number+'.csv')\n",
    "\n",
    "y=df.loc[0,\"batch_number\"]\n",
    "os.mkdir(y)\n",
    "\n",
    "with open(batch_number+'.csv', mode='r') as csv_file:\n",
    "    csv_reader = csv.DictReader(csv_file)\n",
    "    line_count = 0\n",
    "\t\n",
    "    for row in csv_reader:\n",
    "\t\t\t\t\tLogo_link = 'logo.jpg'\n",
    "\n",
    "\t\t\t\t\tlogo = Image.open(Logo_link)\n",
    "\n",
    "# taking base width\n",
    "\t\t\t\t\tbasewidth = 100\n",
    "\n",
    "# adjust image size\n",
    "\t\t\t\t\twpercent = (basewidth/float(logo.size[0]))\n",
    "\t\t\t\t\thsize = int((float(logo.size[1])*float(wpercent)))\n",
    "\t\t\t\t\tlogo = logo.resize((basewidth, hsize), Image.ANTIALIAS)\n",
    "\t\t\t\t\tQRcode = qrcode.QRCode(\n",
    "\t\t\t\t\t\terror_correction=qrcode.constants.ERROR_CORRECT_H\n",
    "\t\t\t\t\t)\n",
    "\t\t\t\t\tid = row[\"hash\"]\n",
    "\n",
    "# adding URL or text to QRcode\n",
    "\t\t\t\t\tQRcode.add_data(id)\n",
    "\n",
    "# generating QR code\n",
    "\t\t\t\t\tQRcode.make()\n",
    "\n",
    "# taking color name from user\n",
    "\t\t\t\t\tQRcolor = 'black'\n",
    "\n",
    "# adding color to QR code\n",
    "\t\t\t\t\tQRimg = QRcode.make_image(\n",
    "\t\t\t\t\t\tfill_color=QRcolor, back_color=\"white\").convert('RGB')\n",
    "\n",
    "# set size of QR code\n",
    "\t\t\t\t\tpos = ((QRimg.size[0] - logo.size[0]) //2,\n",
    "\t\t\t\t\t\t(QRimg.size[1] - logo.size[1]) // 2)\n",
    "\t\t\t\t\tQRimg.paste(logo, pos)\n",
    "\n",
    "# save the QR code generated\n",
    "\t\t\t\t\tx=row[\"prod_id\"]\n",
    "\t\t\t\t\tsave_name=y+'/qr_'+x+'.png'\n",
    "\t\t\t\t\tif(QRimg.save(save_name)):\n",
    "\t\t\t\t\t\tprint('QR generation failed for',x)\n",
    "\t\t\t\t\telse:\n",
    "\t\t\t\t\t\tprint('QR generated for',x)\n",
    "\t\t\t\t\t\n",
    "\t\t\t\t\tdel x"
   ]
  },
  {
   "cell_type": "code",
   "execution_count": 16,
   "id": "5adc0708",
   "metadata": {},
   "outputs": [],
   "source": [
    "import os"
   ]
  },
  {
   "cell_type": "code",
   "execution_count": 17,
   "id": "837189d3",
   "metadata": {},
   "outputs": [],
   "source": [
    "os.remove(batch_number+'.csv')"
   ]
  },
  {
   "cell_type": "code",
   "execution_count": null,
   "id": "c5c1115b",
   "metadata": {},
   "outputs": [],
   "source": []
  }
 ],
 "metadata": {
  "kernelspec": {
   "display_name": "Python 3 (ipykernel)",
   "language": "python",
   "name": "python3"
  },
  "language_info": {
   "codemirror_mode": {
    "name": "ipython",
    "version": 3
   },
   "file_extension": ".py",
   "mimetype": "text/x-python",
   "name": "python",
   "nbconvert_exporter": "python",
   "pygments_lexer": "ipython3",
   "version": "3.10.3"
  }
 },
 "nbformat": 4,
 "nbformat_minor": 5
}
